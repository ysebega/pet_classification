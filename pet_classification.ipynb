{
 "cells": [
  {
   "cell_type": "markdown",
   "metadata": {},
   "source": [
    "<h1>Assessment Project</h1>\n",
    "\n",
    "Submitted by: <b>Yanda Sebega</b>\n",
    "\n",
    "Date: <b>3-Dec-2021</b>\n",
    "\n",
    "Module: Deep Learning with Keras and Tensorflow (by <b>Nikhil Garg</b>)\n",
    "\n",
    "Institution: <b>Simplilearn Solutions</b>"
   ]
  },
  {
   "cell_type": "markdown",
   "metadata": {},
   "source": [
    "# Load required librairies"
   ]
  },
  {
   "cell_type": "code",
   "execution_count": 25,
   "metadata": {},
   "outputs": [],
   "source": [
    "import keras\n",
    "from keras.models import Sequential\n",
    "from keras.layers import Conv2D, MaxPooling2D\n",
    "from keras.layers import Activation, Dropout, Flatten, Dense\n",
    "from keras.preprocessing.image import ImageDataGenerator"
   ]
  },
  {
   "cell_type": "markdown",
   "metadata": {},
   "source": [
    "# Create the CNN model"
   ]
  },
  {
   "cell_type": "code",
   "execution_count": 26,
   "metadata": {},
   "outputs": [],
   "source": [
    "# Create a sequential architecture\n",
    "model = Sequential()\n",
    "\n",
    "# Input layer\n",
    "model.add(keras.Input(shape=(150, 150, 3)))\n",
    "\n",
    "# 1st Convolutional Neural Network layer\n",
    "model.add(Conv2D(32, (5, 5)))\n",
    "model.add(Activation('relu'))\n",
    "model.add(MaxPooling2D(pool_size=(2, 2)))\n",
    "\n",
    "# 2nd Convolutional Neural Network layer\n",
    "model.add(Conv2D(64, (5, 5)))\n",
    "model.add(Activation('relu'))\n",
    "model.add(MaxPooling2D(pool_size=(2, 2)))\n",
    "\n",
    "# last fully connected layer with dropout and sigmoid activation\n",
    "model.add(Flatten()) \n",
    "model.add(Dense(32))\n",
    "model.add(Activation('relu'))\n",
    "model.add(Dropout(0.4))\n",
    "model.add(Dense(1))\n",
    "model.add(Activation('sigmoid'))"
   ]
  },
  {
   "cell_type": "markdown",
   "metadata": {},
   "source": [
    "# Compile the model"
   ]
  },
  {
   "cell_type": "code",
   "execution_count": 27,
   "metadata": {},
   "outputs": [],
   "source": [
    "# Compile the model with loss, optimizer and metrics parameters. \n",
    "model.compile(loss='binary_crossentropy',\n",
    "              optimizer='adam',\n",
    "              metrics=['accuracy'])"
   ]
  },
  {
   "cell_type": "markdown",
   "metadata": {},
   "source": [
    "# Augment the data"
   ]
  },
  {
   "cell_type": "code",
   "execution_count": 28,
   "metadata": {},
   "outputs": [
    {
     "name": "stdout",
     "output_type": "stream",
     "text": [
      "Found 40 images belonging to 2 classes.\n",
      "Found 20 images belonging to 2 classes.\n"
     ]
    }
   ],
   "source": [
    "# Data augmentation as we do not have enough data.\n",
    "batch_size = 16\n",
    "\n",
    "# training augmentation configuration with rescaling\n",
    "train_datagen = ImageDataGenerator(\n",
    "        rescale=1./255,\n",
    "        shear_range=0.2,\n",
    "        zoom_range=0.2,\n",
    "        horizontal_flip=True)\n",
    "\n",
    "# testing augmentation configuration with rescaling\n",
    "test_datagen = ImageDataGenerator(rescale=1./255)\n",
    "\n",
    "# this is a generator to read pictures found in subfolers 'data/train'\n",
    "train_generator = train_datagen.flow_from_directory(\n",
    "        'data/train',  # this is the target directory\n",
    "        target_size=(150, 150),  # all images will be resized to 150x150\n",
    "        batch_size=batch_size,\n",
    "        class_mode='binary')  # since we use binary_crossentropy loss, we need binary labels\n",
    "\n",
    "# similar generator, for validation/testing data\n",
    "testing_generator = test_datagen.flow_from_directory(\n",
    "    'data/test', \n",
    "    target_size=(150, 150), \n",
    "    batch_size=batch_size, \n",
    "    class_mode='binary')"
   ]
  },
  {
   "cell_type": "code",
   "execution_count": 29,
   "metadata": {},
   "outputs": [
    {
     "name": "stdout",
     "output_type": "stream",
     "text": [
      "Epoch 1/50\n",
      "3/3 [==============================] - 3s 825ms/step - loss: 0.7840 - accuracy: 0.4250 - val_loss: 0.7345 - val_accuracy: 0.5000\n",
      "Epoch 2/50\n",
      "3/3 [==============================] - 2s 817ms/step - loss: 0.7128 - accuracy: 0.4250 - val_loss: 0.6941 - val_accuracy: 0.5000\n",
      "Epoch 3/50\n",
      "3/3 [==============================] - 2s 812ms/step - loss: 0.7006 - accuracy: 0.4500 - val_loss: 0.6916 - val_accuracy: 0.5000\n",
      "Epoch 4/50\n",
      "3/3 [==============================] - 2s 698ms/step - loss: 0.6922 - accuracy: 0.5000 - val_loss: 0.6904 - val_accuracy: 0.4500\n",
      "Epoch 5/50\n",
      "3/3 [==============================] - 2s 723ms/step - loss: 0.6833 - accuracy: 0.6250 - val_loss: 0.6828 - val_accuracy: 0.5000\n",
      "Epoch 6/50\n",
      "3/3 [==============================] - 2s 782ms/step - loss: 0.7080 - accuracy: 0.5000 - val_loss: 0.6854 - val_accuracy: 0.5000\n",
      "Epoch 7/50\n",
      "3/3 [==============================] - 2s 789ms/step - loss: 0.6824 - accuracy: 0.6000 - val_loss: 0.6861 - val_accuracy: 0.5500\n",
      "Epoch 8/50\n",
      "3/3 [==============================] - 2s 841ms/step - loss: 0.6804 - accuracy: 0.5750 - val_loss: 0.6843 - val_accuracy: 0.7000\n",
      "Epoch 9/50\n",
      "3/3 [==============================] - 2s 770ms/step - loss: 0.6824 - accuracy: 0.6750 - val_loss: 0.6802 - val_accuracy: 0.5500\n",
      "Epoch 10/50\n",
      "3/3 [==============================] - 2s 794ms/step - loss: 0.6825 - accuracy: 0.5500 - val_loss: 0.6742 - val_accuracy: 0.6000\n",
      "Epoch 11/50\n",
      "3/3 [==============================] - 2s 702ms/step - loss: 0.6353 - accuracy: 0.6750 - val_loss: 0.6576 - val_accuracy: 0.5500\n",
      "Epoch 12/50\n",
      "3/3 [==============================] - 2s 789ms/step - loss: 0.6543 - accuracy: 0.6000 - val_loss: 0.6396 - val_accuracy: 0.5500\n",
      "Epoch 13/50\n",
      "3/3 [==============================] - 2s 862ms/step - loss: 0.6091 - accuracy: 0.6750 - val_loss: 0.6255 - val_accuracy: 0.6500\n",
      "Epoch 14/50\n",
      "3/3 [==============================] - 3s 881ms/step - loss: 0.6569 - accuracy: 0.5750 - val_loss: 0.6355 - val_accuracy: 0.6500\n",
      "Epoch 15/50\n",
      "3/3 [==============================] - 3s 1s/step - loss: 0.5860 - accuracy: 0.7500 - val_loss: 0.6693 - val_accuracy: 0.5000\n",
      "Epoch 16/50\n",
      "3/3 [==============================] - 3s 937ms/step - loss: 0.5532 - accuracy: 0.8250 - val_loss: 0.6628 - val_accuracy: 0.5500\n",
      "Epoch 17/50\n",
      "3/3 [==============================] - 3s 845ms/step - loss: 0.5417 - accuracy: 0.7250 - val_loss: 0.7013 - val_accuracy: 0.4500\n",
      "Epoch 18/50\n",
      "3/3 [==============================] - 3s 910ms/step - loss: 0.5843 - accuracy: 0.6500 - val_loss: 0.6545 - val_accuracy: 0.5000\n",
      "Epoch 19/50\n",
      "3/3 [==============================] - 3s 908ms/step - loss: 0.5222 - accuracy: 0.8000 - val_loss: 0.6431 - val_accuracy: 0.6500\n",
      "Epoch 20/50\n",
      "3/3 [==============================] - 3s 887ms/step - loss: 0.4896 - accuracy: 0.8000 - val_loss: 0.6440 - val_accuracy: 0.6500\n",
      "Epoch 21/50\n",
      "3/3 [==============================] - 3s 900ms/step - loss: 0.3593 - accuracy: 0.8750 - val_loss: 0.7024 - val_accuracy: 0.6500\n",
      "Epoch 22/50\n",
      "3/3 [==============================] - 3s 900ms/step - loss: 0.4002 - accuracy: 0.8500 - val_loss: 0.7956 - val_accuracy: 0.6000\n",
      "Epoch 23/50\n",
      "3/3 [==============================] - 3s 953ms/step - loss: 0.3580 - accuracy: 0.8250 - val_loss: 0.7721 - val_accuracy: 0.5500\n",
      "Epoch 24/50\n",
      "3/3 [==============================] - 3s 1s/step - loss: 0.2592 - accuracy: 0.9500 - val_loss: 0.7211 - val_accuracy: 0.5500\n",
      "Epoch 25/50\n",
      "3/3 [==============================] - 3s 1s/step - loss: 0.2979 - accuracy: 0.9250 - val_loss: 0.6556 - val_accuracy: 0.6500\n",
      "Epoch 26/50\n",
      "3/3 [==============================] - 3s 877ms/step - loss: 0.2347 - accuracy: 0.9250 - val_loss: 0.9260 - val_accuracy: 0.6000\n",
      "Epoch 27/50\n",
      "3/3 [==============================] - 3s 1s/step - loss: 0.3118 - accuracy: 0.8750 - val_loss: 1.0301 - val_accuracy: 0.6500\n",
      "Epoch 28/50\n",
      "3/3 [==============================] - 3s 1s/step - loss: 0.2836 - accuracy: 0.8750 - val_loss: 1.2331 - val_accuracy: 0.5500\n",
      "Epoch 29/50\n",
      "3/3 [==============================] - 3s 850ms/step - loss: 0.1504 - accuracy: 0.9500 - val_loss: 1.3825 - val_accuracy: 0.5000\n",
      "Epoch 30/50\n",
      "3/3 [==============================] - 3s 874ms/step - loss: 0.1744 - accuracy: 0.9500 - val_loss: 1.2738 - val_accuracy: 0.6000\n",
      "Epoch 31/50\n",
      "3/3 [==============================] - 3s 1s/step - loss: 0.2521 - accuracy: 0.9000 - val_loss: 0.9430 - val_accuracy: 0.7000\n",
      "Epoch 32/50\n",
      "3/3 [==============================] - 3s 917ms/step - loss: 0.2368 - accuracy: 0.9500 - val_loss: 0.9661 - val_accuracy: 0.7000\n",
      "Epoch 33/50\n",
      "3/3 [==============================] - 3s 1s/step - loss: 0.1643 - accuracy: 0.9500 - val_loss: 1.2212 - val_accuracy: 0.5500\n",
      "Epoch 34/50\n",
      "3/3 [==============================] - 3s 1s/step - loss: 0.1813 - accuracy: 0.9750 - val_loss: 1.3253 - val_accuracy: 0.5000\n",
      "Epoch 35/50\n",
      "3/3 [==============================] - 3s 936ms/step - loss: 0.0926 - accuracy: 0.9750 - val_loss: 1.4392 - val_accuracy: 0.5500\n",
      "Epoch 36/50\n",
      "3/3 [==============================] - 3s 872ms/step - loss: 0.0898 - accuracy: 0.9750 - val_loss: 1.5227 - val_accuracy: 0.6000\n",
      "Epoch 37/50\n",
      "3/3 [==============================] - 3s 934ms/step - loss: 0.0599 - accuracy: 1.0000 - val_loss: 1.6453 - val_accuracy: 0.6000\n",
      "Epoch 38/50\n",
      "3/3 [==============================] - 3s 891ms/step - loss: 0.0865 - accuracy: 1.0000 - val_loss: 1.6480 - val_accuracy: 0.5500\n",
      "Epoch 39/50\n",
      "3/3 [==============================] - 3s 1s/step - loss: 0.0440 - accuracy: 1.0000 - val_loss: 1.7045 - val_accuracy: 0.6000\n",
      "Epoch 40/50\n",
      "3/3 [==============================] - 3s 901ms/step - loss: 0.0891 - accuracy: 0.9500 - val_loss: 1.5232 - val_accuracy: 0.6000\n",
      "Epoch 41/50\n",
      "3/3 [==============================] - 3s 912ms/step - loss: 0.0765 - accuracy: 0.9750 - val_loss: 1.2256 - val_accuracy: 0.6500\n",
      "Epoch 42/50\n",
      "3/3 [==============================] - 3s 1s/step - loss: 0.0713 - accuracy: 1.0000 - val_loss: 1.4336 - val_accuracy: 0.6500\n",
      "Epoch 43/50\n",
      "3/3 [==============================] - 3s 918ms/step - loss: 0.0935 - accuracy: 0.9750 - val_loss: 1.4461 - val_accuracy: 0.6500\n",
      "Epoch 44/50\n",
      "3/3 [==============================] - 3s 925ms/step - loss: 0.0612 - accuracy: 1.0000 - val_loss: 1.4210 - val_accuracy: 0.5500\n",
      "Epoch 45/50\n",
      "3/3 [==============================] - 3s 1s/step - loss: 0.0643 - accuracy: 1.0000 - val_loss: 1.5637 - val_accuracy: 0.5500\n",
      "Epoch 46/50\n",
      "3/3 [==============================] - 3s 945ms/step - loss: 0.0898 - accuracy: 0.9750 - val_loss: 1.5232 - val_accuracy: 0.7000\n",
      "Epoch 47/50\n",
      "3/3 [==============================] - 3s 1s/step - loss: 0.1782 - accuracy: 0.9250 - val_loss: 2.0418 - val_accuracy: 0.6000\n",
      "Epoch 48/50\n",
      "3/3 [==============================] - 3s 864ms/step - loss: 0.1102 - accuracy: 0.9750 - val_loss: 2.2839 - val_accuracy: 0.5500\n",
      "Epoch 49/50\n",
      "3/3 [==============================] - 3s 955ms/step - loss: 0.0342 - accuracy: 1.0000 - val_loss: 2.7243 - val_accuracy: 0.5500\n",
      "Epoch 50/50\n",
      "3/3 [==============================] - 3s 923ms/step - loss: 0.1989 - accuracy: 0.9000 - val_loss: 2.4706 - val_accuracy: 0.5500\n"
     ]
    },
    {
     "data": {
      "text/plain": [
       "<keras.callbacks.History at 0x2880b378348>"
      ]
     },
     "execution_count": 29,
     "metadata": {},
     "output_type": "execute_result"
    }
   ],
   "source": [
    "# fit the model \n",
    "model.fit(\n",
    "        train_generator,\n",
    "        epochs=50, \n",
    "        validation_data=testing_generator\n",
    ")"
   ]
  },
  {
   "cell_type": "code",
   "execution_count": 36,
   "metadata": {},
   "outputs": [
    {
     "name": "stdout",
     "output_type": "stream",
     "text": [
      "2/2 [==============================] - 1s 46ms/step - loss: 2.4706 - accuracy: 0.5500\n"
     ]
    }
   ],
   "source": [
    "# evaluate the model\n",
    "history = model.evaluate(testing_generator)"
   ]
  },
  {
   "cell_type": "code",
   "execution_count": 24,
   "metadata": {},
   "outputs": [
    {
     "name": "stdout",
     "output_type": "stream",
     "text": [
      "Model: \"sequential_1\"\n",
      "_________________________________________________________________\n",
      " Layer (type)                Output Shape              Param #   \n",
      "=================================================================\n",
      " conv2d_2 (Conv2D)           (None, 146, 146, 32)      2432      \n",
      "                                                                 \n",
      " activation_4 (Activation)   (None, 146, 146, 32)      0         \n",
      "                                                                 \n",
      " max_pooling2d_2 (MaxPooling  (None, 73, 73, 32)       0         \n",
      " 2D)                                                             \n",
      "                                                                 \n",
      " conv2d_3 (Conv2D)           (None, 69, 69, 64)        51264     \n",
      "                                                                 \n",
      " activation_5 (Activation)   (None, 69, 69, 64)        0         \n",
      "                                                                 \n",
      " max_pooling2d_3 (MaxPooling  (None, 34, 34, 64)       0         \n",
      " 2D)                                                             \n",
      "                                                                 \n",
      " flatten_1 (Flatten)         (None, 73984)             0         \n",
      "                                                                 \n",
      " dense_2 (Dense)             (None, 32)                2367520   \n",
      "                                                                 \n",
      " activation_6 (Activation)   (None, 32)                0         \n",
      "                                                                 \n",
      " dropout_1 (Dropout)         (None, 32)                0         \n",
      "                                                                 \n",
      " dense_3 (Dense)             (None, 1)                 33        \n",
      "                                                                 \n",
      " activation_7 (Activation)   (None, 1)                 0         \n",
      "                                                                 \n",
      "=================================================================\n",
      "Total params: 2,421,249\n",
      "Trainable params: 2,421,249\n",
      "Non-trainable params: 0\n",
      "_________________________________________________________________\n"
     ]
    }
   ],
   "source": [
    "model.summary()"
   ]
  },
  {
   "cell_type": "markdown",
   "metadata": {},
   "source": [
    "# Report on the accuracy and loss"
   ]
  },
  {
   "cell_type": "code",
   "execution_count": 39,
   "metadata": {
    "scrolled": true
   },
   "outputs": [],
   "source": [
    "loss = history[0]\n",
    "accuracy = history[1]\n"
   ]
  },
  {
   "cell_type": "code",
   "execution_count": 40,
   "metadata": {},
   "outputs": [
    {
     "data": {
      "text/plain": [
       "2.470590353012085"
      ]
     },
     "execution_count": 40,
     "metadata": {},
     "output_type": "execute_result"
    }
   ],
   "source": [
    "print(loss)"
   ]
  },
  {
   "cell_type": "code",
   "execution_count": 41,
   "metadata": {},
   "outputs": [
    {
     "data": {
      "text/plain": [
       "0.550000011920929"
      ]
     },
     "execution_count": 41,
     "metadata": {},
     "output_type": "execute_result"
    }
   ],
   "source": [
    "print(accuracy)"
   ]
  },
  {
   "cell_type": "code",
   "execution_count": null,
   "metadata": {},
   "outputs": [],
   "source": []
  }
 ],
 "metadata": {
  "kernelspec": {
   "display_name": "Python 3",
   "language": "python",
   "name": "python3"
  },
  "language_info": {
   "codemirror_mode": {
    "name": "ipython",
    "version": 3
   },
   "file_extension": ".py",
   "mimetype": "text/x-python",
   "name": "python",
   "nbconvert_exporter": "python",
   "pygments_lexer": "ipython3",
   "version": "3.7.6"
  }
 },
 "nbformat": 4,
 "nbformat_minor": 4
}
